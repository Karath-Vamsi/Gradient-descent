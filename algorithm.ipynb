{
 "cells": [
  {
   "cell_type": "code",
   "execution_count": 7,
   "metadata": {},
   "outputs": [],
   "source": [
    "import numpy as np\n",
    "import pandas as pd\n",
    "import math as math\n",
    "import copy"
   ]
  },
  {
   "cell_type": "markdown",
   "metadata": {},
   "source": [
    "# Cost function"
   ]
  },
  {
   "cell_type": "code",
   "execution_count": 9,
   "metadata": {},
   "outputs": [],
   "source": [
    "def cost(X,y,w,b):\n",
    "    m = X.shape[0]\n",
    "    cst = 0\n",
    "    for i in range(m):\n",
    "        f = np.dot(X[i],w)+b\n",
    "        err = (f-y[i])**2\n",
    "        cst += err\n",
    "    cst /= (2*m)\n",
    "    return cst"
   ]
  },
  {
   "cell_type": "markdown",
   "metadata": {},
   "source": [
    "# Gradient descent"
   ]
  },
  {
   "cell_type": "code",
   "execution_count": 10,
   "metadata": {},
   "outputs": [],
   "source": [
    "def gradient(X,y,w,b):\n",
    "    m,n = X.shape\n",
    "    dj_dw = np.zeros((n,))\n",
    "    dj_db = 0\n",
    "\n",
    "    for i in range(m):\n",
    "        f = np.dot(X[i],w)+b\n",
    "        err = (f-y[i])\n",
    "        for j in range(n):\n",
    "            dj_dw[j] += err*X[i,j]\n",
    "        dj_db += err\n",
    "    dj_dw /= m\n",
    "    dj_db /= m\n",
    "\n",
    "    return dj_dw,dj_db"
   ]
  },
  {
   "cell_type": "code",
   "execution_count": 11,
   "metadata": {},
   "outputs": [],
   "source": [
    "def descent(X,y,w_in,b_in,alpha,num_iter,cost,gradient):\n",
    "\n",
    "    history_j = []\n",
    "    w = copy.deepcopy(w_in) # to prevent inplace modification of w_in\n",
    "    b = 0\n",
    "\n",
    "    for i in range(num_iter):\n",
    "\n",
    "        cst = cost(X,y,w,b)\n",
    "        history_j.append(cst)\n",
    "\n",
    "        dj_dw,dj_db = gradient(X,y,w,b)\n",
    "\n",
    "        # power of vertorization\n",
    "        w = w - alpha*dj_dw\n",
    "        b = b - alpha*dj_db\n",
    "\n",
    "        if math.ceil(num_iter/10)==0:\n",
    "            print(f\"cost:{cst}  w:{w}  b:{b}\")\n",
    "\n",
    "    return w,b,history_j"
   ]
  },
  {
   "cell_type": "markdown",
   "metadata": {},
   "source": [
    "# Z-score normalization"
   ]
  },
  {
   "cell_type": "code",
   "execution_count": 12,
   "metadata": {},
   "outputs": [],
   "source": [
    "def z_score_normalization(X):\n",
    "\n",
    "    mu = np.mean(X,axis=0)\n",
    "\n",
    "    sigma = np.std(X,axis=0)\n",
    "\n",
    "    # power of vectorization\n",
    "    X_norm = (X-mu)/sigma\n",
    "\n",
    "    return X_norm,mu,sigma"
   ]
  },
  {
   "cell_type": "markdown",
   "metadata": {},
   "source": [
    "# Prediction"
   ]
  },
  {
   "cell_type": "code",
   "execution_count": 13,
   "metadata": {},
   "outputs": [],
   "source": [
    "def predict(x,w,b):\n",
    "    y = np.dot(x,w)+b\n",
    "    return y"
   ]
  }
 ],
 "metadata": {
  "kernelspec": {
   "display_name": "Python (myenv)",
   "language": "python",
   "name": "myenv"
  },
  "language_info": {
   "codemirror_mode": {
    "name": "ipython",
    "version": 3
   },
   "file_extension": ".py",
   "mimetype": "text/x-python",
   "name": "python",
   "nbconvert_exporter": "python",
   "pygments_lexer": "ipython3",
   "version": "3.6.13"
  }
 },
 "nbformat": 4,
 "nbformat_minor": 2
}
